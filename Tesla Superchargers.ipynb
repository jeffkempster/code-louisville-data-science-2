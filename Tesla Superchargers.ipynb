{
 "cells": [
  {
   "cell_type": "markdown",
   "metadata": {},
   "source": [
    "Make sure the data set has numbers and not just text. See if it has value.\n",
    "\n",
    "Or maybe I can add data to the set with other datasets. \n",
    "\n",
    "apply thing from assignment 1, 2, 3 \n",
    "\n",
    "maybe add population numbers to the dataset based on lat/lng\n",
    "maybe with zip code level data. \n",
    "\n",
    "has chargers kept up with production of electic vehicles. \n",
    "\n",
    "Find the url to the json file at tesla,\n",
    "but keep the real json file incase it goes away\n",
    "\n",
    "web scrape the charge point database. \n",
    "\n",
    "median income with a certain distance of each charger or maybe by zip code\n",
    "\n",
    "forecasting, classification, correlation between multiple variables. \n",
    "\n"
   ]
  },
  {
   "cell_type": "code",
   "execution_count": null,
   "metadata": {},
   "outputs": [],
   "source": [
    "import pandas as pd\n",
    "patients_df = pd.read_json('all-locations.json')\n",
    "pd.set_option('display.max_columns', None)\n",
    "pd.set_option('display.max_rows', None)\n",
    "patients_df.head(100)\n"
   ]
  },
  {
   "cell_type": "code",
   "execution_count": null,
   "metadata": {},
   "outputs": [],
   "source": []
  }
 ],
 "metadata": {
  "kernelspec": {
   "display_name": "Python 3",
   "language": "python",
   "name": "python3"
  },
  "language_info": {
   "codemirror_mode": {
    "name": "ipython",
    "version": 3
   },
   "file_extension": ".py",
   "mimetype": "text/x-python",
   "name": "python",
   "nbconvert_exporter": "python",
   "pygments_lexer": "ipython3",
   "version": "3.9.0"
  }
 },
 "nbformat": 4,
 "nbformat_minor": 4
}
